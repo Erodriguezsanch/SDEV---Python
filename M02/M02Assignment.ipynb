{
 "cells": [
  {
   "cell_type": "code",
   "execution_count": 5,
   "metadata": {},
   "outputs": [
    {
     "name": "stdout",
     "output_type": "stream",
     "text": [
      "just right\n"
     ]
    }
   ],
   "source": [
    "\"\"\"\"M02 Assignment 4.1\"\"\"\n",
    "\n",
    "secret = 3\n",
    "\n",
    "while True:\n",
    "    try:\n",
    "        guess = int(input(\"Guess the secret number between 1-10: \"))\n",
    "        if 1 <= guess <= 10:\n",
    "            if guess == secret:\n",
    "                print(\"just right\")\n",
    "                break\n",
    "            if guess < secret:\n",
    "                print(\"too low\")\n",
    "            else:\n",
    "                print(\"too high\")\n",
    "            \n",
    "        \n",
    "        \n",
    "        elif guess > 10:\n",
    "            print(\"Your guess is greater than 10.\")\n",
    "        elif guess < 1:\n",
    "            print(\"Your guess is less than 1.\")\n",
    "    except ValueError:\n",
    "        print(\"Invalid input. Please enter a number between 1-10\")"
   ]
  },
  {
   "cell_type": "code",
   "execution_count": 6,
   "metadata": {},
   "outputs": [
    {
     "name": "stdout",
     "output_type": "stream",
     "text": [
      "Is cherry small?\n",
      "Yes, it's small\n",
      "Is cherry green?\n",
      "No, it's not green\n",
      "Is pea small?\n",
      "Yes, it's small\n",
      "Is pea green?\n",
      "Yes, it's green\n",
      "Is watermelon small?\n",
      "No, it's not small\n",
      "Is watermelon green?\n",
      "Yes, it's green\n",
      "Is pumpkin small?\n",
      "No, it's not small\n",
      "Is pumpkin green?\n",
      "No, it's not green\n"
     ]
    }
   ],
   "source": [
    "\"\"\"M02 Assignment 4.2\"\"\"\n",
    "\n",
    "small = True\n",
    "green = False\n",
    "\n",
    "choices = [\"cherry\", \"pea\", \"watermelon\", \"pumpkin\"]\n",
    "\n",
    "for choice in choices:\n",
    "    print(f\"Is {choice} small?\")\n",
    "    \n",
    "    if choice == \"cherry\":\n",
    "        if small == True:\n",
    "            print(\"Yes, it's small\")\n",
    "        else:\n",
    "            print(\"No, it's not small\")\n",
    "\n",
    "    if choice == \"pea\":\n",
    "        if small == True:\n",
    "            print(\"Yes, it's small\")\n",
    "        else:\n",
    "            print(\"No, it's not small\")\n",
    "\n",
    "    if choice == \"watermelon\":\n",
    "        if small == True:\n",
    "            print(\"No, it's not small\")\n",
    "        else:\n",
    "            print(\"Yes, it's small\")\n",
    "\n",
    "    if choice == \"pumpkin\":\n",
    "        if small == True:\n",
    "            print(\"No, it's not small\")\n",
    "        else:\n",
    "            print(\"Yes, it's small\")\n",
    "\n",
    "    \n",
    "    print(f\"Is {choice} green?\")\n",
    "\n",
    "    if choice == \"cherry\":\n",
    "        if green == False:\n",
    "            print(\"No, it's not green\")\n",
    "        else:\n",
    "            print(\"Yes, it's green\")\n",
    "\n",
    "    if choice == \"pea\":\n",
    "        if green == False:\n",
    "            print(\"Yes, it's green\")\n",
    "        else:\n",
    "            print(\"No, it's not green\")\n",
    "\n",
    "    if choice == \"watermelon\":\n",
    "        if green == False:\n",
    "            print(\"Yes, it's green\")\n",
    "        else:\n",
    "            print(\"No, it's not green\")\n",
    "\n",
    "    if choice == \"pumpkin\":\n",
    "        if green == False:\n",
    "            print(\"No, it's not green\")\n",
    "        else:\n",
    "            print(\"Yes, it's green\")        "
   ]
  },
  {
   "cell_type": "code",
   "execution_count": 2,
   "metadata": {},
   "outputs": [
    {
     "name": "stdout",
     "output_type": "stream",
     "text": [
      "3\n",
      "2\n",
      "1\n",
      "0\n"
     ]
    }
   ],
   "source": [
    "\"\"\"M02 Assignment 6.1\"\"\"\n",
    "\n",
    "list = [3, 2, 1, 0]\n",
    "for i in list:\n",
    "    print(i)"
   ]
  },
  {
   "cell_type": "code",
   "execution_count": 3,
   "metadata": {},
   "outputs": [
    {
     "name": "stdout",
     "output_type": "stream",
     "text": [
      "too low\n",
      "too low\n",
      "too low\n",
      "too low\n",
      "too low\n",
      "too low\n",
      "found it!\n"
     ]
    }
   ],
   "source": [
    "\"\"\"M02 Assignment 6.2\"\"\"\n",
    "\n",
    "guess_me = 7\n",
    "number = 1\n",
    "\n",
    "while True:\n",
    "    if number < guess_me:\n",
    "        print(\"too low\")\n",
    "    elif number == guess_me:\n",
    "        print(\"found it!\")\n",
    "        break\n",
    "    else:\n",
    "        print(\"oops\")\n",
    "        break\n",
    "    number += 1\n"
   ]
  },
  {
   "cell_type": "code",
   "execution_count": 4,
   "metadata": {},
   "outputs": [
    {
     "name": "stdout",
     "output_type": "stream",
     "text": [
      "too low\n",
      "too low\n",
      "too low\n",
      "too low\n",
      "too low\n",
      "found it\n",
      "oops\n"
     ]
    }
   ],
   "source": [
    "\"\"\"M02 Assignment 6.3\"\"\"\n",
    "\n",
    "guess_me = 5\n",
    "\n",
    "for number in range(10):\n",
    "    if number < guess_me:\n",
    "        print(\"too low\")\n",
    "    if number == guess_me:\n",
    "        print(\"found it\")\n",
    "    if number > guess_me:\n",
    "        print(\"oops\")\n",
    "        break"
   ]
  }
 ],
 "metadata": {
  "kernelspec": {
   "display_name": "Python 3",
   "language": "python",
   "name": "python3"
  },
  "language_info": {
   "codemirror_mode": {
    "name": "ipython",
    "version": 3
   },
   "file_extension": ".py",
   "mimetype": "text/x-python",
   "name": "python",
   "nbconvert_exporter": "python",
   "pygments_lexer": "ipython3",
   "version": "3.12.2"
  }
 },
 "nbformat": 4,
 "nbformat_minor": 2
}
