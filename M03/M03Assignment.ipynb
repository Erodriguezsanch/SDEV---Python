{
 "cells": [
  {
   "cell_type": "code",
   "execution_count": 1,
   "metadata": {},
   "outputs": [],
   "source": [
    "\"\"\" 7.4 \"\"\"\n",
    "things = [\"mozzarella\", \"cinderella\", \"salmonella\"]"
   ]
  },
  {
   "cell_type": "code",
   "execution_count": 2,
   "metadata": {},
   "outputs": [
    {
     "name": "stdout",
     "output_type": "stream",
     "text": [
      "Updated list: ['mozzarella', 'Cinderella', 'salmonella']\n"
     ]
    }
   ],
   "source": [
    "\"\"\" 7.5 \"\"\"\n",
    "person = \"cinderella\"\n",
    "for i in range(len(things)):\n",
    "    if person in things[i]:\n",
    "        things[i] = things[i].capitalize()\n",
    "\n",
    "print(f\"Updated list: {things}\")"
   ]
  },
  {
   "cell_type": "code",
   "execution_count": 3,
   "metadata": {},
   "outputs": [
    {
     "name": "stdout",
     "output_type": "stream",
     "text": [
      "Updated list: ['MOZZARELLA', 'Cinderella', 'salmonella']\n"
     ]
    }
   ],
   "source": [
    "\"\"\" 7.6 \"\"\"\n",
    "cheesy = \"mozzarella\"\n",
    "for i in range(len(things)):\n",
    "    if cheesy in things[i]:\n",
    "        things[i] = things[i].upper()\n",
    "\n",
    "print(f\"Updated list: {things}\")"
   ]
  },
  {
   "cell_type": "code",
   "execution_count": 4,
   "metadata": {},
   "outputs": [
    {
     "name": "stdout",
     "output_type": "stream",
     "text": [
      "Updated list: ['MOZZARELLA', 'Cinderella']\n"
     ]
    }
   ],
   "source": [
    "\"\"\" 7.7 \"\"\"\n",
    "disease = \"salmonella\"\n",
    "things.remove(disease)\n",
    "\n",
    "print(f\"Updated list: {things}\")\n"
   ]
  },
  {
   "cell_type": "code",
   "execution_count": 5,
   "metadata": {},
   "outputs": [
    {
     "name": "stdout",
     "output_type": "stream",
     "text": [
      "['Harry', 'Ron', 'Hermione']\n"
     ]
    }
   ],
   "source": [
    "\"\"\" 9.1 \"\"\"\n",
    "def good():\n",
    "    return ['Harry', 'Ron', 'Hermione']\n",
    "\n",
    "outcome = good()\n",
    "print(outcome)\n",
    "\n"
   ]
  },
  {
   "cell_type": "code",
   "execution_count": 6,
   "metadata": {},
   "outputs": [
    {
     "name": "stdout",
     "output_type": "stream",
     "text": [
      "Third odd number: 5\n"
     ]
    }
   ],
   "source": [
    "\"\"\" 9.2 \"\"\"\n",
    "def get_odds():\n",
    "    for num in range(1, 10, 2):\n",
    "        yield num\n",
    "\n",
    "count = 0\n",
    "for num in get_odds():\n",
    "    count += 1\n",
    "    if count == 3:\n",
    "        print(f\"Third odd number: {num}\")"
   ]
  }
 ],
 "metadata": {
  "kernelspec": {
   "display_name": "Python 3",
   "language": "python",
   "name": "python3"
  },
  "language_info": {
   "codemirror_mode": {
    "name": "ipython",
    "version": 3
   },
   "file_extension": ".py",
   "mimetype": "text/x-python",
   "name": "python",
   "nbconvert_exporter": "python",
   "pygments_lexer": "ipython3",
   "version": "3.12.2"
  }
 },
 "nbformat": 4,
 "nbformat_minor": 2
}
